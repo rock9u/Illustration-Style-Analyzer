{
 "cells": [
  {
   "cell_type": "code",
   "execution_count": null,
   "metadata": {},
   "outputs": [],
   "source": [
    "from PIL import Image\n",
    "import matplotlib.pyplot as plt\n",
    "import numpy as np\n",
    "from matplotlib.pyplot import imshow\n",
    "import colorsys\n",
    "import urllib,io\n",
    "from IPython.display import Image as iim"
   ]
  },
  {
   "cell_type": "code",
   "execution_count": null,
   "metadata": {},
   "outputs": [],
   "source": [
    "def visualHSV(mode,h,s,v):\n",
    "    switcher = {\n",
    "        'H': lambda: colorsys.hsv_to_rbg(0,0,h),\n",
    "        'S': lambda: colorsys.hsv_to_rbg(0,0,s),\n",
    "        'V': lambda: colorsys.hsv_to_rbg(0,0,v)\n",
    "    }\n",
    "    return switcher.get(mode,None)"
   ]
  },
  {
   "cell_type": "code",
   "execution_count": null,
   "metadata": {
    "scrolled": true
   },
   "outputs": [],
   "source": [
    "# URL = input() \n",
    "URL = \"https://wx2.sinaimg.cn/mw1024/bfee4305gy1ftsx96j7rrj22lk2ao4qq.jpg\""
   ]
  },
  {
   "cell_type": "code",
   "execution_count": null,
   "metadata": {},
   "outputs": [],
   "source": [
    "\n",
    "file = io.StringIO(urllib.urlopen(URL).read())\n",
    "im = Image.open(file)\n",
    "im2 = im.copy()\n",
    "#imshow(im)\n",
    "# newcolor = []\n",
    "# print im.getpoint()\n",
    "# # c = [255,255,255]\n",
    "# # h,s,v=colorsys.rgb_to_hsv(255,255,255)\n",
    "# # print h,s,v\n",
    "# #though every pxl of image\n",
    "\n",
    "        "
   ]
  },
  {
   "cell_type": "code",
   "execution_count": null,
   "metadata": {},
   "outputs": [],
   "source": [
    "#colorys: rgb and hsl are float point in between 0 and 1\n",
    "#pillow: rgb:0 to 255 int, hsl:: 0 to 360 degree, s and l: 0 to 1 int\n",
    "\n",
    "for x in xrange(im.size[0]):\n",
    "    for y in xrange(im.size[1]):\n",
    "        r,g,b = im.getpixel((x,y))\n",
    "        #convert to hsv\n",
    "        h,s,v=colorsys.rgb_to_hsv(r/255.0,g/255.0,b/255.0)\n",
    "        #new image with hsv as para\n",
    "        #print h,s,v\n",
    "        r,g,b = colorsys.hsv_to_rgb(0,s,1-s)\n",
    "        \n",
    "        rgb = (int(r*255),int(g*255),int(b*255))\n",
    "        if rgb:\n",
    "            im2.putpixel((x,y),(rgb))\n",
    "#            newcolor.append((int(rgb[0]),int(rgb[1]),int(rgb[1])))\n",
    "# #            newcolor.append(int(rgb[1]))\n",
    "# #            newcolor.append(int(rgb[2]))\n",
    "# im2.point(table = sum(zip(*newcolor), ()))\n",
    "\n",
    "\n"
   ]
  },
  {
   "cell_type": "code",
   "execution_count": null,
   "metadata": {},
   "outputs": [],
   "source": [
    "# display in single figure\n",
    "# f = plt.figure()\n",
    "# f.add_subplot(1,2, 1)\n",
    "# plt.imshow(im)\n",
    "# f.add_subplot(1,2, 2)\n",
    "# plt.imshow(im2)\n",
    "# plt.show(block=True)\n",
    "\n",
    "imshow(im)"
   ]
  },
  {
   "cell_type": "code",
   "execution_count": null,
   "metadata": {},
   "outputs": [],
   "source": []
  },
  {
   "cell_type": "code",
   "execution_count": null,
   "metadata": {},
   "outputs": [],
   "source": [
    "imshow(im2)"
   ]
  }
 ],
 "metadata": {
  "kernelspec": {
   "display_name": "Python 3",
   "language": "python",
   "name": "python3"
  },
  "language_info": {
   "codemirror_mode": {
    "name": "ipython",
    "version": 3
   },
   "file_extension": ".py",
   "mimetype": "text/x-python",
   "name": "python",
   "nbconvert_exporter": "python",
   "pygments_lexer": "ipython3",
   "version": "3.7.0"
  }
 },
 "nbformat": 4,
 "nbformat_minor": 2
}
